{
 "cells": [
  {
   "cell_type": "markdown",
   "metadata": {},
   "source": [
    "# Making a dataset of random no. and plotting"
   ]
  },
  {
   "cell_type": "code",
   "execution_count": 1,
   "metadata": {},
   "outputs": [],
   "source": [
    "import numpy as np"
   ]
  },
  {
   "cell_type": "code",
   "execution_count": 2,
   "metadata": {},
   "outputs": [
    {
     "data": {
      "text/plain": [
       "array([0.0113823 , 0.00417896, 0.68836386, 0.60891889, 0.50357225,\n",
       "       0.31951394, 0.29034696, 0.65916206, 0.64814081, 0.97199392,\n",
       "       0.20642391, 0.98647605, 0.95746345, 0.00737074, 0.51660005,\n",
       "       0.58694447, 0.75235811, 0.56820399, 0.04963832, 0.84933498,\n",
       "       0.56717084, 0.29183515, 0.26400277, 0.16806021, 0.359958  ,\n",
       "       0.81320601, 0.37713458, 0.29312978, 0.01883879, 0.32055206,\n",
       "       0.56448834, 0.47607814, 0.88112349, 0.79316361, 0.86563874,\n",
       "       0.54503732, 0.05785652, 0.8654637 , 0.33863557, 0.29775611,\n",
       "       0.97353897, 0.06489042, 0.11252615, 0.95823861, 0.13178121,\n",
       "       0.52229666, 0.44791701, 0.77243078, 0.64678764, 0.8217003 ])"
      ]
     },
     "execution_count": 2,
     "metadata": {},
     "output_type": "execute_result"
    }
   ],
   "source": [
    "x=np.random.rand(50)\n",
    "x"
   ]
  },
  {
   "cell_type": "code",
   "execution_count": 3,
   "metadata": {},
   "outputs": [
    {
     "data": {
      "text/plain": [
       "array([0.86577895, 0.78366764, 0.77745826, 0.14724623, 0.00424761,\n",
       "       0.47632784, 0.96611243, 0.13695289, 0.63121863, 0.36048359,\n",
       "       0.11684873, 0.82946815, 0.43026433, 0.37806581, 0.41269784,\n",
       "       0.86966523, 0.64757705, 0.51073843, 0.01284008, 0.63033218,\n",
       "       0.32932795, 0.61086091, 0.69505879, 0.99008559, 0.40685081,\n",
       "       0.76938114, 0.81174219, 0.26171974, 0.09821639, 0.74034514,\n",
       "       0.34363283, 0.43956812, 0.94129982, 0.35849929, 0.26269213,\n",
       "       0.09388442, 0.47442296, 0.26180119, 0.33621349, 0.3187076 ,\n",
       "       0.99926878, 0.75332737, 0.21731941, 0.03615576, 0.64234851,\n",
       "       0.75488286, 0.81115841, 0.62578168, 0.42578302, 0.76591629])"
      ]
     },
     "execution_count": 3,
     "metadata": {},
     "output_type": "execute_result"
    }
   ],
   "source": [
    "c=np.random.rand(50)\n",
    "m=5\n",
    "c"
   ]
  },
  {
   "cell_type": "code",
   "execution_count": 4,
   "metadata": {},
   "outputs": [
    {
     "data": {
      "text/plain": [
       "array([0.92269047, 0.80456243, 4.21927756, 3.1918407 , 2.52210888,\n",
       "       2.07389756, 2.41784723, 3.43276319, 3.87192268, 5.2204532 ,\n",
       "       1.14896828, 5.76184838, 5.21758158, 0.41491952, 2.99569808,\n",
       "       3.80438757, 4.40936759, 3.35175839, 0.26103169, 4.8770071 ,\n",
       "       3.16518214, 2.07003668, 2.01507263, 1.83038662, 2.20664083,\n",
       "       4.83541121, 2.69741511, 1.72736864, 0.19241035, 2.34310543,\n",
       "       3.16607452, 2.81995883, 5.34691726, 4.32431736, 4.59088584,\n",
       "       2.81907102, 0.76370553, 4.58911969, 2.02939135, 1.80748816,\n",
       "       5.86696362, 1.07777949, 0.77995016, 4.82734881, 1.30125457,\n",
       "       3.36636614, 3.05074346, 4.48793558, 3.65972121, 4.8744178 ])"
      ]
     },
     "execution_count": 4,
     "metadata": {},
     "output_type": "execute_result"
    }
   ],
   "source": [
    "y=m*x+c\n",
    "y"
   ]
  },
  {
   "cell_type": "code",
   "execution_count": 5,
   "metadata": {},
   "outputs": [],
   "source": [
    "import matplotlib.pyplot as plt"
   ]
  },
  {
   "cell_type": "code",
   "execution_count": 6,
   "metadata": {},
   "outputs": [
    {
     "data": {
      "image/png": "[encoded data removed]",
      "text/plain": [
       "<Figure size 432x288 with 1 Axes>"
      ]
     },
     "metadata": {
      "needs_background": "light"
     },
     "output_type": "display_data"
    }
   ],
   "source": [
    "plt.figure()\n",
    "plt.scatter(x,y,label=\"graph\")\n",
    "plt.show()\n"
   ]
  }
 ],
 "metadata": {
  "kernelspec": {
   "display_name": "Python [conda env:root] *",
   "language": "python",
   "name": "conda-root-py"
  },
  "language_info": {
   "codemirror_mode": {
    "name": "ipython",
    "version": 3
   },
   "file_extension": ".py",
   "mimetype": "text/x-python",
   "name": "python",
   "nbconvert_exporter": "python",
   "pygments_lexer": "ipython3",
   "version": "3.8.5"
  }
 },
 "nbformat": 4,
 "nbformat_minor": 4
}
