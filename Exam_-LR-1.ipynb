{
 "cells": [
  {
   "cell_type": "code",
   "execution_count": 1,
   "id": "3053212f",
   "metadata": {},
   "outputs": [],
   "source": [
    "import numpy as np\n",
    "import pandas as pd\n",
    "import matplotlib.pyplot as plt\n",
    "import seaborn as sns\n",
    "from tqdm import tqdm"
   ]
  },
  {
   "cell_type": "code",
   "execution_count": 2,
   "id": "f8b22c54",
   "metadata": {},
   "outputs": [
    {
     "data": {
      "text/html": [
       "<div>\n",
       "<style scoped>\n",
       "    .dataframe tbody tr th:only-of-type {\n",
       "        vertical-align: middle;\n",
       "    }\n",
       "\n",
       "    .dataframe tbody tr th {\n",
       "        vertical-align: top;\n",
       "    }\n",
       "\n",
       "    .dataframe thead th {\n",
       "        text-align: right;\n",
       "    }\n",
       "</style>\n",
       "<table border=\"1\" class=\"dataframe\">\n",
       "  <thead>\n",
       "    <tr style=\"text-align: right;\">\n",
       "      <th></th>\n",
       "      <th>MODELYEAR</th>\n",
       "      <th>MAKE</th>\n",
       "      <th>MODEL</th>\n",
       "      <th>VEHICLECLASS</th>\n",
       "      <th>ENGINESIZE</th>\n",
       "      <th>CYLINDERS</th>\n",
       "      <th>TRANSMISSION</th>\n",
       "      <th>FUELTYPE</th>\n",
       "      <th>FUELCONSUMPTION_CITY</th>\n",
       "      <th>FUELCONSUMPTION_HWY</th>\n",
       "      <th>FUELCONSUMPTION_COMB</th>\n",
       "      <th>FUELCONSUMPTION_COMB_MPG</th>\n",
       "      <th>CO2EMISSIONS</th>\n",
       "    </tr>\n",
       "  </thead>\n",
       "  <tbody>\n",
       "    <tr>\n",
       "      <th>0</th>\n",
       "      <td>2014</td>\n",
       "      <td>ACURA</td>\n",
       "      <td>ILX</td>\n",
       "      <td>COMPACT</td>\n",
       "      <td>2.0</td>\n",
       "      <td>4</td>\n",
       "      <td>AS5</td>\n",
       "      <td>Z</td>\n",
       "      <td>9.9</td>\n",
       "      <td>6.7</td>\n",
       "      <td>8.5</td>\n",
       "      <td>33</td>\n",
       "      <td>196</td>\n",
       "    </tr>\n",
       "    <tr>\n",
       "      <th>1</th>\n",
       "      <td>2014</td>\n",
       "      <td>ACURA</td>\n",
       "      <td>ILX</td>\n",
       "      <td>COMPACT</td>\n",
       "      <td>2.4</td>\n",
       "      <td>4</td>\n",
       "      <td>M6</td>\n",
       "      <td>Z</td>\n",
       "      <td>11.2</td>\n",
       "      <td>7.7</td>\n",
       "      <td>9.6</td>\n",
       "      <td>29</td>\n",
       "      <td>221</td>\n",
       "    </tr>\n",
       "    <tr>\n",
       "      <th>2</th>\n",
       "      <td>2014</td>\n",
       "      <td>ACURA</td>\n",
       "      <td>ILX HYBRID</td>\n",
       "      <td>COMPACT</td>\n",
       "      <td>1.5</td>\n",
       "      <td>4</td>\n",
       "      <td>AV7</td>\n",
       "      <td>Z</td>\n",
       "      <td>6.0</td>\n",
       "      <td>5.8</td>\n",
       "      <td>5.9</td>\n",
       "      <td>48</td>\n",
       "      <td>136</td>\n",
       "    </tr>\n",
       "    <tr>\n",
       "      <th>3</th>\n",
       "      <td>2014</td>\n",
       "      <td>ACURA</td>\n",
       "      <td>MDX 4WD</td>\n",
       "      <td>SUV - SMALL</td>\n",
       "      <td>3.5</td>\n",
       "      <td>6</td>\n",
       "      <td>AS6</td>\n",
       "      <td>Z</td>\n",
       "      <td>12.7</td>\n",
       "      <td>9.1</td>\n",
       "      <td>11.1</td>\n",
       "      <td>25</td>\n",
       "      <td>255</td>\n",
       "    </tr>\n",
       "    <tr>\n",
       "      <th>4</th>\n",
       "      <td>2014</td>\n",
       "      <td>ACURA</td>\n",
       "      <td>RDX AWD</td>\n",
       "      <td>SUV - SMALL</td>\n",
       "      <td>3.5</td>\n",
       "      <td>6</td>\n",
       "      <td>AS6</td>\n",
       "      <td>Z</td>\n",
       "      <td>12.1</td>\n",
       "      <td>8.7</td>\n",
       "      <td>10.6</td>\n",
       "      <td>27</td>\n",
       "      <td>244</td>\n",
       "    </tr>\n",
       "    <tr>\n",
       "      <th>...</th>\n",
       "      <td>...</td>\n",
       "      <td>...</td>\n",
       "      <td>...</td>\n",
       "      <td>...</td>\n",
       "      <td>...</td>\n",
       "      <td>...</td>\n",
       "      <td>...</td>\n",
       "      <td>...</td>\n",
       "      <td>...</td>\n",
       "      <td>...</td>\n",
       "      <td>...</td>\n",
       "      <td>...</td>\n",
       "      <td>...</td>\n",
       "    </tr>\n",
       "    <tr>\n",
       "      <th>1062</th>\n",
       "      <td>2014</td>\n",
       "      <td>VOLVO</td>\n",
       "      <td>XC60 AWD</td>\n",
       "      <td>SUV - SMALL</td>\n",
       "      <td>3.0</td>\n",
       "      <td>6</td>\n",
       "      <td>AS6</td>\n",
       "      <td>X</td>\n",
       "      <td>13.4</td>\n",
       "      <td>9.8</td>\n",
       "      <td>11.8</td>\n",
       "      <td>24</td>\n",
       "      <td>271</td>\n",
       "    </tr>\n",
       "    <tr>\n",
       "      <th>1063</th>\n",
       "      <td>2014</td>\n",
       "      <td>VOLVO</td>\n",
       "      <td>XC60 AWD</td>\n",
       "      <td>SUV - SMALL</td>\n",
       "      <td>3.2</td>\n",
       "      <td>6</td>\n",
       "      <td>AS6</td>\n",
       "      <td>X</td>\n",
       "      <td>13.2</td>\n",
       "      <td>9.5</td>\n",
       "      <td>11.5</td>\n",
       "      <td>25</td>\n",
       "      <td>264</td>\n",
       "    </tr>\n",
       "    <tr>\n",
       "      <th>1064</th>\n",
       "      <td>2014</td>\n",
       "      <td>VOLVO</td>\n",
       "      <td>XC70 AWD</td>\n",
       "      <td>SUV - SMALL</td>\n",
       "      <td>3.0</td>\n",
       "      <td>6</td>\n",
       "      <td>AS6</td>\n",
       "      <td>X</td>\n",
       "      <td>13.4</td>\n",
       "      <td>9.8</td>\n",
       "      <td>11.8</td>\n",
       "      <td>24</td>\n",
       "      <td>271</td>\n",
       "    </tr>\n",
       "    <tr>\n",
       "      <th>1065</th>\n",
       "      <td>2014</td>\n",
       "      <td>VOLVO</td>\n",
       "      <td>XC70 AWD</td>\n",
       "      <td>SUV - SMALL</td>\n",
       "      <td>3.2</td>\n",
       "      <td>6</td>\n",
       "      <td>AS6</td>\n",
       "      <td>X</td>\n",
       "      <td>12.9</td>\n",
       "      <td>9.3</td>\n",
       "      <td>11.3</td>\n",
       "      <td>25</td>\n",
       "      <td>260</td>\n",
       "    </tr>\n",
       "    <tr>\n",
       "      <th>1066</th>\n",
       "      <td>2014</td>\n",
       "      <td>VOLVO</td>\n",
       "      <td>XC90 AWD</td>\n",
       "      <td>SUV - STANDARD</td>\n",
       "      <td>3.2</td>\n",
       "      <td>6</td>\n",
       "      <td>AS6</td>\n",
       "      <td>X</td>\n",
       "      <td>14.9</td>\n",
       "      <td>10.2</td>\n",
       "      <td>12.8</td>\n",
       "      <td>22</td>\n",
       "      <td>294</td>\n",
       "    </tr>\n",
       "  </tbody>\n",
       "</table>\n",
       "<p>1067 rows × 13 columns</p>\n",
       "</div>"
      ],
      "text/plain": [
       "      MODELYEAR   MAKE       MODEL    VEHICLECLASS  ENGINESIZE  CYLINDERS  \\\n",
       "0          2014  ACURA         ILX         COMPACT         2.0          4   \n",
       "1          2014  ACURA         ILX         COMPACT         2.4          4   \n",
       "2          2014  ACURA  ILX HYBRID         COMPACT         1.5          4   \n",
       "3          2014  ACURA     MDX 4WD     SUV - SMALL         3.5          6   \n",
       "4          2014  ACURA     RDX AWD     SUV - SMALL         3.5          6   \n",
       "...         ...    ...         ...             ...         ...        ...   \n",
       "1062       2014  VOLVO    XC60 AWD     SUV - SMALL         3.0          6   \n",
       "1063       2014  VOLVO    XC60 AWD     SUV - SMALL         3.2          6   \n",
       "1064       2014  VOLVO    XC70 AWD     SUV - SMALL         3.0          6   \n",
       "1065       2014  VOLVO    XC70 AWD     SUV - SMALL         3.2          6   \n",
       "1066       2014  VOLVO    XC90 AWD  SUV - STANDARD         3.2          6   \n",
       "\n",
       "     TRANSMISSION FUELTYPE  FUELCONSUMPTION_CITY  FUELCONSUMPTION_HWY  \\\n",
       "0             AS5        Z                   9.9                  6.7   \n",
       "1              M6        Z                  11.2                  7.7   \n",
       "2             AV7        Z                   6.0                  5.8   \n",
       "3             AS6        Z                  12.7                  9.1   \n",
       "4             AS6        Z                  12.1                  8.7   \n",
       "...           ...      ...                   ...                  ...   \n",
       "1062          AS6        X                  13.4                  9.8   \n",
       "1063          AS6        X                  13.2                  9.5   \n",
       "1064          AS6        X                  13.4                  9.8   \n",
       "1065          AS6        X                  12.9                  9.3   \n",
       "1066          AS6        X                  14.9                 10.2   \n",
       "\n",
       "      FUELCONSUMPTION_COMB  FUELCONSUMPTION_COMB_MPG  CO2EMISSIONS  \n",
       "0                      8.5                        33           196  \n",
       "1                      9.6                        29           221  \n",
       "2                      5.9                        48           136  \n",
       "3                     11.1                        25           255  \n",
       "4                     10.6                        27           244  \n",
       "...                    ...                       ...           ...  \n",
       "1062                  11.8                        24           271  \n",
       "1063                  11.5                        25           264  \n",
       "1064                  11.8                        24           271  \n",
       "1065                  11.3                        25           260  \n",
       "1066                  12.8                        22           294  \n",
       "\n",
       "[1067 rows x 13 columns]"
      ]
     },
     "execution_count": 2,
     "metadata": {},
     "output_type": "execute_result"
    }
   ],
   "source": [
    "df = pd.read_csv(\"FuelConsumptionCo2.csv\")\n",
    "\n",
    "# take a look at the dataset\n",
    "df"
   ]
  },
  {
   "cell_type": "code",
   "execution_count": 3,
   "id": "c5e401d4",
   "metadata": {},
   "outputs": [
    {
     "data": {
      "text/html": [
       "<div>\n",
       "<style scoped>\n",
       "    .dataframe tbody tr th:only-of-type {\n",
       "        vertical-align: middle;\n",
       "    }\n",
       "\n",
       "    .dataframe tbody tr th {\n",
       "        vertical-align: top;\n",
       "    }\n",
       "\n",
       "    .dataframe thead th {\n",
       "        text-align: right;\n",
       "    }\n",
       "</style>\n",
       "<table border=\"1\" class=\"dataframe\">\n",
       "  <thead>\n",
       "    <tr style=\"text-align: right;\">\n",
       "      <th></th>\n",
       "      <th>ENGINESIZE</th>\n",
       "      <th>CYLINDERS</th>\n",
       "      <th>FUELCONSUMPTION_CITY</th>\n",
       "      <th>FUELCONSUMPTION_HWY</th>\n",
       "      <th>FUELCONSUMPTION_COMB</th>\n",
       "      <th>FUELCONSUMPTION_COMB_MPG</th>\n",
       "      <th>CO2EMISSIONS</th>\n",
       "    </tr>\n",
       "  </thead>\n",
       "  <tbody>\n",
       "    <tr>\n",
       "      <th>0</th>\n",
       "      <td>2.0</td>\n",
       "      <td>4</td>\n",
       "      <td>9.9</td>\n",
       "      <td>6.7</td>\n",
       "      <td>8.5</td>\n",
       "      <td>33</td>\n",
       "      <td>196</td>\n",
       "    </tr>\n",
       "    <tr>\n",
       "      <th>1</th>\n",
       "      <td>2.4</td>\n",
       "      <td>4</td>\n",
       "      <td>11.2</td>\n",
       "      <td>7.7</td>\n",
       "      <td>9.6</td>\n",
       "      <td>29</td>\n",
       "      <td>221</td>\n",
       "    </tr>\n",
       "    <tr>\n",
       "      <th>2</th>\n",
       "      <td>1.5</td>\n",
       "      <td>4</td>\n",
       "      <td>6.0</td>\n",
       "      <td>5.8</td>\n",
       "      <td>5.9</td>\n",
       "      <td>48</td>\n",
       "      <td>136</td>\n",
       "    </tr>\n",
       "    <tr>\n",
       "      <th>3</th>\n",
       "      <td>3.5</td>\n",
       "      <td>6</td>\n",
       "      <td>12.7</td>\n",
       "      <td>9.1</td>\n",
       "      <td>11.1</td>\n",
       "      <td>25</td>\n",
       "      <td>255</td>\n",
       "    </tr>\n",
       "    <tr>\n",
       "      <th>4</th>\n",
       "      <td>3.5</td>\n",
       "      <td>6</td>\n",
       "      <td>12.1</td>\n",
       "      <td>8.7</td>\n",
       "      <td>10.6</td>\n",
       "      <td>27</td>\n",
       "      <td>244</td>\n",
       "    </tr>\n",
       "  </tbody>\n",
       "</table>\n",
       "</div>"
      ],
      "text/plain": [
       "   ENGINESIZE  CYLINDERS  FUELCONSUMPTION_CITY  FUELCONSUMPTION_HWY  \\\n",
       "0         2.0          4                   9.9                  6.7   \n",
       "1         2.4          4                  11.2                  7.7   \n",
       "2         1.5          4                   6.0                  5.8   \n",
       "3         3.5          6                  12.7                  9.1   \n",
       "4         3.5          6                  12.1                  8.7   \n",
       "\n",
       "   FUELCONSUMPTION_COMB  FUELCONSUMPTION_COMB_MPG  CO2EMISSIONS  \n",
       "0                   8.5                        33           196  \n",
       "1                   9.6                        29           221  \n",
       "2                   5.9                        48           136  \n",
       "3                  11.1                        25           255  \n",
       "4                  10.6                        27           244  "
      ]
     },
     "execution_count": 3,
     "metadata": {},
     "output_type": "execute_result"
    }
   ],
   "source": [
    "cdf = df[['ENGINESIZE','CYLINDERS','FUELCONSUMPTION_CITY','FUELCONSUMPTION_HWY','FUELCONSUMPTION_COMB','FUELCONSUMPTION_COMB_MPG','CO2EMISSIONS']]\n",
    "cdf.head()"
   ]
  },
  {
   "cell_type": "code",
   "execution_count": 4,
   "id": "5d4701a7",
   "metadata": {},
   "outputs": [
    {
     "data": {
      "text/plain": [
       "(1067, 6)"
      ]
     },
     "execution_count": 4,
     "metadata": {},
     "output_type": "execute_result"
    }
   ],
   "source": [
    "X=df[['ENGINESIZE','CYLINDERS','FUELCONSUMPTION_CITY','FUELCONSUMPTION_HWY','FUELCONSUMPTION_COMB','FUELCONSUMPTION_COMB_MPG']]\n",
    "X.shape"
   ]
  },
  {
   "cell_type": "code",
   "execution_count": 5,
   "id": "0d23aea2",
   "metadata": {},
   "outputs": [],
   "source": [
    "X=np.array(X)"
   ]
  },
  {
   "cell_type": "code",
   "execution_count": 6,
   "id": "ac8e06cb",
   "metadata": {},
   "outputs": [
    {
     "data": {
      "text/plain": [
       "array([[ 2. ,  4. ,  9.9,  6.7,  8.5, 33. ],\n",
       "       [ 2.4,  4. , 11.2,  7.7,  9.6, 29. ],\n",
       "       [ 1.5,  4. ,  6. ,  5.8,  5.9, 48. ],\n",
       "       ...,\n",
       "       [ 3. ,  6. , 13.4,  9.8, 11.8, 24. ],\n",
       "       [ 3.2,  6. , 12.9,  9.3, 11.3, 25. ],\n",
       "       [ 3.2,  6. , 14.9, 10.2, 12.8, 22. ]])"
      ]
     },
     "execution_count": 6,
     "metadata": {},
     "output_type": "execute_result"
    }
   ],
   "source": [
    "X"
   ]
  },
  {
   "cell_type": "code",
   "execution_count": 7,
   "id": "68727cd8",
   "metadata": {},
   "outputs": [
    {
     "data": {
      "text/plain": [
       "(1067, 1)"
      ]
     },
     "execution_count": 7,
     "metadata": {},
     "output_type": "execute_result"
    }
   ],
   "source": [
    "Y=df[['CO2EMISSIONS']]\n",
    "Y.shape"
   ]
  },
  {
   "cell_type": "code",
   "execution_count": 8,
   "id": "8a823d37",
   "metadata": {},
   "outputs": [
    {
     "data": {
      "text/plain": [
       "array([[196],\n",
       "       [221],\n",
       "       [136],\n",
       "       ...,\n",
       "       [271],\n",
       "       [260],\n",
       "       [294]])"
      ]
     },
     "execution_count": 8,
     "metadata": {},
     "output_type": "execute_result"
    }
   ],
   "source": [
    "Y=np.array(Y)\n",
    "Y"
   ]
  },
  {
   "cell_type": "code",
   "execution_count": 9,
   "id": "da9bb7cd",
   "metadata": {},
   "outputs": [
    {
     "name": "stdout",
     "output_type": "stream",
     "text": [
      "[[ 2.   4.   9.9  6.7  8.5 33. ]\n",
      " [ 2.4  4.  11.2  7.7  9.6 29. ]\n",
      " [ 1.5  4.   6.   5.8  5.9 48. ]\n",
      " ...\n",
      " [ 3.   6.  13.4  9.8 11.8 24. ]\n",
      " [ 3.2  6.  12.9  9.3 11.3 25. ]\n",
      " [ 3.2  6.  14.9 10.2 12.8 22. ]]\n"
     ]
    }
   ],
   "source": [
    "print(X)\n"
   ]
  },
  {
   "cell_type": "code",
   "execution_count": 10,
   "id": "55aabe90",
   "metadata": {},
   "outputs": [
    {
     "name": "stdout",
     "output_type": "stream",
     "text": [
      "[[ 2.   4.   9.9 16.   8.5 33. ]\n",
      " [ 2.4  4.  11.2 26.   9.6 29. ]\n",
      " [ 1.5  4.   6.   7.   5.9 48. ]\n",
      " ...\n",
      " [ 3.   6.  13.4 47.  11.8 24. ]\n",
      " [ 3.2  6.  12.9 42.  11.3 25. ]\n",
      " [ 3.2  6.  14.9 51.  12.8 22. ]]\n",
      "  (0, 16)\t1.0\n",
      "  (0, 118)\t2.0\n",
      "  (0, 119)\t4.0\n",
      "  (0, 120)\t9.9\n",
      "  (0, 121)\t8.5\n",
      "  (0, 122)\t33.0\n",
      "  (1, 26)\t1.0\n",
      "  (1, 118)\t2.4\n",
      "  (1, 119)\t4.0\n",
      "  (1, 120)\t11.2\n",
      "  (1, 121)\t9.6\n",
      "  (1, 122)\t29.0\n",
      "  (2, 7)\t1.0\n",
      "  (2, 118)\t1.5\n",
      "  (2, 119)\t4.0\n",
      "  (2, 120)\t6.0\n",
      "  (2, 121)\t5.9\n",
      "  (2, 122)\t48.0\n",
      "  (3, 40)\t1.0\n",
      "  (3, 118)\t3.5\n",
      "  (3, 119)\t6.0\n",
      "  (3, 120)\t12.7\n",
      "  (3, 121)\t11.1\n",
      "  (3, 122)\t25.0\n",
      "  (4, 36)\t1.0\n",
      "  :\t:\n",
      "  (1062, 122)\t24.0\n",
      "  (1063, 44)\t1.0\n",
      "  (1063, 118)\t3.2\n",
      "  (1063, 119)\t6.0\n",
      "  (1063, 120)\t13.2\n",
      "  (1063, 121)\t11.5\n",
      "  (1063, 122)\t25.0\n",
      "  (1064, 47)\t1.0\n",
      "  (1064, 118)\t3.0\n",
      "  (1064, 119)\t6.0\n",
      "  (1064, 120)\t13.4\n",
      "  (1064, 121)\t11.8\n",
      "  (1064, 122)\t24.0\n",
      "  (1065, 42)\t1.0\n",
      "  (1065, 118)\t3.2\n",
      "  (1065, 119)\t6.0\n",
      "  (1065, 120)\t12.9\n",
      "  (1065, 121)\t11.3\n",
      "  (1065, 122)\t25.0\n",
      "  (1066, 51)\t1.0\n",
      "  (1066, 118)\t3.2\n",
      "  (1066, 119)\t6.0\n",
      "  (1066, 120)\t14.9\n",
      "  (1066, 121)\t12.8\n",
      "  (1066, 122)\t22.0\n"
     ]
    }
   ],
   "source": [
    "# Encoding categorical data\n",
    "from sklearn.preprocessing import LabelEncoder, OneHotEncoder\n",
    "from sklearn.compose import ColumnTransformer\n",
    "labelencoder = LabelEncoder()\n",
    "X[:, 3] = labelencoder.fit_transform(X[:, 3])\n",
    "print(X)\n",
    "#onehotencoder = OneHotEncoder(categories= 'auto' )\n",
    "#onehotencoder = OneHotEncoder(categorical_features = [3])\n",
    "#X = onehotencoder.fit_transform(X).toarray()\n",
    "\n",
    "ct = ColumnTransformer([(\"Location\", OneHotEncoder(), [3])], remainder = 'passthrough')\n",
    "X = ct.fit_transform(X)\n",
    "\n",
    "print(X)"
   ]
  },
  {
   "cell_type": "code",
   "execution_count": 11,
   "id": "a7b706b7",
   "metadata": {},
   "outputs": [
    {
     "name": "stdout",
     "output_type": "stream",
     "text": [
      "[[356]\n",
      " [209]\n",
      " [230]\n",
      " [212]\n",
      " [168]\n",
      " [292]\n",
      " [212]\n",
      " [276]\n",
      " [202]\n",
      " [334]\n",
      " [313]\n",
      " [437]\n",
      " [224]\n",
      " [281]\n",
      " [177]\n",
      " [260]\n",
      " [414]\n",
      " [223]\n",
      " [251]\n",
      " [359]\n",
      " [191]\n",
      " [189]\n",
      " [244]\n",
      " [242]\n",
      " [131]\n",
      " [283]\n",
      " [274]\n",
      " [294]\n",
      " [246]\n",
      " [110]\n",
      " [359]\n",
      " [239]\n",
      " [229]\n",
      " [237]\n",
      " [191]\n",
      " [196]\n",
      " [294]\n",
      " [221]\n",
      " [237]\n",
      " [237]\n",
      " [184]\n",
      " [184]\n",
      " [202]\n",
      " [194]\n",
      " [297]\n",
      " [198]\n",
      " [260]\n",
      " [179]\n",
      " [344]\n",
      " [359]\n",
      " [338]\n",
      " [288]\n",
      " [290]\n",
      " [129]\n",
      " [230]\n",
      " [179]\n",
      " [283]\n",
      " [159]\n",
      " [258]\n",
      " [209]\n",
      " [207]\n",
      " [205]\n",
      " [225]\n",
      " [294]\n",
      " [262]\n",
      " [299]\n",
      " [354]\n",
      " [230]\n",
      " [207]\n",
      " [124]\n",
      " [304]\n",
      " [189]\n",
      " [354]\n",
      " [270]\n",
      " [338]\n",
      " [216]\n",
      " [283]\n",
      " [179]\n",
      " [235]\n",
      " [166]\n",
      " [186]\n",
      " [253]\n",
      " [161]\n",
      " [334]\n",
      " [407]\n",
      " [246]\n",
      " [191]\n",
      " [172]\n",
      " [290]\n",
      " [258]\n",
      " [262]\n",
      " [209]\n",
      " [283]\n",
      " [342]\n",
      " [356]\n",
      " [368]\n",
      " [168]\n",
      " [221]\n",
      " [368]\n",
      " [262]\n",
      " [182]\n",
      " [320]\n",
      " [126]\n",
      " [166]\n",
      " [202]\n",
      " [196]\n",
      " [200]\n",
      " [288]\n",
      " [191]\n",
      " [259]\n",
      " [214]\n",
      " [228]\n",
      " [269]\n",
      " [317]\n",
      " [327]\n",
      " [294]\n",
      " [292]\n",
      " [244]\n",
      " [361]\n",
      " [200]\n",
      " [258]\n",
      " [191]\n",
      " [382]\n",
      " [147]\n",
      " [179]\n",
      " [310]\n",
      " [229]\n",
      " [237]\n",
      " [292]\n",
      " [264]\n",
      " [230]\n",
      " [294]\n",
      " [184]\n",
      " [136]\n",
      " [344]\n",
      " [373]\n",
      " [283]\n",
      " [110]\n",
      " [198]\n",
      " [232]\n",
      " [262]\n",
      " [191]\n",
      " [342]\n",
      " [368]\n",
      " [189]\n",
      " [175]\n",
      " [285]\n",
      " [345]\n",
      " [301]\n",
      " [138]\n",
      " [179]\n",
      " [251]\n",
      " [161]\n",
      " [235]\n",
      " [310]\n",
      " [242]\n",
      " [292]\n",
      " [221]\n",
      " [324]\n",
      " [235]\n",
      " [177]\n",
      " [209]\n",
      " [177]\n",
      " [202]\n",
      " [242]\n",
      " [205]\n",
      " [264]\n",
      " [184]\n",
      " [400]\n",
      " [334]\n",
      " [260]\n",
      " [285]\n",
      " [235]\n",
      " [301]\n",
      " [281]\n",
      " [276]\n",
      " [265]\n",
      " [242]\n",
      " [184]\n",
      " [345]\n",
      " [292]\n",
      " [184]\n",
      " [317]\n",
      " [200]\n",
      " [347]\n",
      " [290]\n",
      " [205]\n",
      " [350]\n",
      " [184]\n",
      " [290]\n",
      " [267]\n",
      " [271]\n",
      " [239]\n",
      " [232]\n",
      " [218]\n",
      " [269]\n",
      " [228]\n",
      " [216]\n",
      " [255]\n",
      " [317]\n",
      " [260]\n",
      " [225]\n",
      " [223]\n",
      " [329]\n",
      " [290]\n",
      " [288]\n",
      " [294]\n",
      " [258]\n",
      " [380]\n",
      " [198]\n",
      " [221]\n",
      " [191]\n",
      " [184]\n",
      " [184]]\n",
      "[[373.61721518]\n",
      " [203.80541163]\n",
      " [222.60327847]\n",
      " [220.76287913]\n",
      " [180.56960493]\n",
      " [297.56329309]\n",
      " [210.08930564]\n",
      " [274.52113731]\n",
      " [203.38389712]\n",
      " [347.25126643]\n",
      " [292.65298834]\n",
      " [310.93235157]\n",
      " [215.98312223]\n",
      " [292.28843828]\n",
      " [178.5899516 ]\n",
      " [272.05255629]\n",
      " [343.12528676]\n",
      " [218.62537322]\n",
      " [261.12218812]\n",
      " [369.52048169]\n",
      " [190.48175047]\n",
      " [221.93231953]\n",
      " [246.77789991]\n",
      " [236.03075165]\n",
      " [122.29431692]\n",
      " [276.80500441]\n",
      " [273.69265474]\n",
      " [308.14479283]\n",
      " [279.9948543 ]\n",
      " [117.86342192]\n",
      " [357.42447162]\n",
      " [225.9799209 ]\n",
      " [283.50627717]\n",
      " [246.71720485]\n",
      " [190.48175047]\n",
      " [199.11916742]\n",
      " [301.22337958]\n",
      " [214.44194468]\n",
      " [227.3019931 ]\n",
      " [245.93810561]\n",
      " [188.82186485]\n",
      " [186.57061604]\n",
      " [201.28026356]\n",
      " [172.73766332]\n",
      " [298.65361516]\n",
      " [195.02485052]\n",
      " [243.97304135]\n",
      " [178.41521992]\n",
      " [344.00020614]\n",
      " [369.41554382]\n",
      " [332.99911356]\n",
      " [287.99987715]\n",
      " [284.00697821]\n",
      " [117.13608898]\n",
      " [224.78821178]\n",
      " [178.41521992]\n",
      " [295.06699218]\n",
      " [159.59172662]\n",
      " [253.97758994]\n",
      " [203.51077142]\n",
      " [207.14703633]\n",
      " [200.13641967]\n",
      " [217.98661261]\n",
      " [308.14479283]\n",
      " [259.29104849]\n",
      " [309.0409569 ]\n",
      " [337.82573394]\n",
      " [274.71597007]\n",
      " [204.38796491]\n",
      " [ -4.40575134]\n",
      " [315.50885103]\n",
      " [218.05932606]\n",
      " [333.54299702]\n",
      " [305.23776031]\n",
      " [329.30428931]\n",
      " [214.69995372]\n",
      " [273.42988423]\n",
      " [186.26922067]\n",
      " [219.87205723]\n",
      " [174.25878335]\n",
      " [186.51610844]\n",
      " [247.4304684 ]\n",
      " [168.15346514]\n",
      " [315.05345077]\n",
      " [371.12209497]\n",
      " [248.16844204]\n",
      " [186.64632145]\n",
      " [171.05537575]\n",
      " [386.64592128]\n",
      " [285.8044086 ]\n",
      " [263.52194259]\n",
      " [207.29751291]\n",
      " [244.30533716]\n",
      " [319.65286608]\n",
      " [363.12730089]\n",
      " [293.52784211]\n",
      " [177.8105335 ]\n",
      " [237.67656843]\n",
      " [371.72682579]\n",
      " [266.3472728 ]\n",
      " [180.87409624]\n",
      " [333.70328769]\n",
      " [112.57137328]\n",
      " [164.99666023]\n",
      " [201.69129409]\n",
      " [196.34685718]\n",
      " [197.48593266]\n",
      " [268.42554432]\n",
      " [190.42116987]\n",
      " [338.07226513]\n",
      " [209.85737814]\n",
      " [216.21182941]\n",
      " [270.6458927 ]\n",
      " [306.29748046]\n",
      " [322.94869417]\n",
      " [282.7419066 ]\n",
      " [299.6304272 ]\n",
      " [244.83885926]\n",
      " [372.89109185]\n",
      " [201.9540534 ]\n",
      " [262.29941453]\n",
      " [186.58732176]\n",
      " [363.02758531]\n",
      " [149.57401257]\n",
      " [178.41521992]\n",
      " [305.07112879]\n",
      " [307.3420392 ]\n",
      " [298.95758256]\n",
      " [275.54028247]\n",
      " [264.24735114]\n",
      " [240.09901903]\n",
      " [305.644045  ]\n",
      " [183.40725795]\n",
      " [126.50463179]\n",
      " [343.99986669]\n",
      " [367.80469594]\n",
      " [280.92639415]\n",
      " [116.84764492]\n",
      " [192.65460944]\n",
      " [233.25177865]\n",
      " [302.11275298]\n",
      " [190.48175047]\n",
      " [319.65286608]\n",
      " [293.52784211]\n",
      " [193.8907952 ]\n",
      " [181.20686493]\n",
      " [277.39122604]\n",
      " [343.98130416]\n",
      " [312.67543357]\n",
      " [133.26026075]\n",
      " [178.41521992]\n",
      " [258.20362237]\n",
      " [166.0595052 ]\n",
      " [244.90769954]\n",
      " [316.49511915]\n",
      " [249.51138019]\n",
      " [287.8013091 ]\n",
      " [215.19459401]\n",
      " [338.82113762]\n",
      " [242.64556935]\n",
      " [173.24256708]\n",
      " [204.78295086]\n",
      " [179.67295097]\n",
      " [226.34303765]\n",
      " [243.03883724]\n",
      " [199.96146436]\n",
      " [286.65634787]\n",
      " [182.98633822]\n",
      " [391.05765726]\n",
      " [334.00005907]\n",
      " [263.77154664]\n",
      " [266.66276742]\n",
      " [248.36503803]\n",
      " [305.77962012]\n",
      " [299.23862249]\n",
      " [265.33477726]\n",
      " [262.50405671]\n",
      " [245.10790935]\n",
      " [182.98633822]\n",
      " [333.49083037]\n",
      " [314.20179597]\n",
      " [181.97056122]\n",
      " [313.36514004]\n",
      " [201.9540534 ]\n",
      " [318.55464071]\n",
      " [294.75129518]\n",
      " [199.95424331]\n",
      " [351.277643  ]\n",
      " [182.98633822]\n",
      " [309.10342852]\n",
      " [269.18817655]\n",
      " [276.06411961]\n",
      " [245.59631538]\n",
      " [243.04704165]\n",
      " [218.64766394]\n",
      " [288.70110356]\n",
      " [236.28093488]\n",
      " [215.68326303]\n",
      " [244.41133352]\n",
      " [313.36514004]\n",
      " [260.39498947]\n",
      " [224.45125811]\n",
      " [234.36046035]\n",
      " [324.55947177]\n",
      " [292.81939669]\n",
      " [299.00881036]\n",
      " [285.0774916 ]\n",
      " [262.15954526]\n",
      " [365.54332981]\n",
      " [192.87423837]\n",
      " [221.65322173]\n",
      " [190.42116987]\n",
      " [182.98633822]\n",
      " [181.97056122]]\n"
     ]
    }
   ],
   "source": [
    "# Avoiding the Dummy Variable Trap\n",
    "#X = X[:, 1:]\n",
    "#print(X)\n",
    "#splitting the dataset as training and testing dataset\n",
    "from sklearn.model_selection import train_test_split\n",
    "X_train, X_test, Y_train, Y_test = train_test_split(X,Y,test_size = 0.2, random_state=0)\n",
    "\n",
    "\n",
    "# Fitting Multiple Linear Regression to the Training set\n",
    "from sklearn.linear_model import LinearRegression\n",
    "regressor = LinearRegression()\n",
    "regressor.fit(X_train, Y_train)\n",
    "\n",
    "# Predicting the Test set results\n",
    "y_pred = regressor.predict(X_test)\n",
    "#Actual Value \n",
    "print(Y_test)\n",
    "#Prediced Value\n",
    "print(y_pred)\n"
   ]
  },
  {
   "cell_type": "code",
   "execution_count": 12,
   "id": "6a2fb9a8",
   "metadata": {},
   "outputs": [
    {
     "data": {
      "text/plain": [
       "<matplotlib.collections.PathCollection at 0x7f10b59169a0>"
      ]
     },
     "execution_count": 12,
     "metadata": {},
     "output_type": "execute_result"
    },
    {
     "data": {
      "image/png": "[encoded data removed]",
      "text/plain": [
       "<Figure size 432x288 with 1 Axes>"
      ]
     },
     "metadata": {
      "needs_background": "light"
     },
     "output_type": "display_data"
    }
   ],
   "source": [
    "plt.scatter(Y_test,y_pred)"
   ]
  },
  {
   "cell_type": "code",
   "execution_count": null,
   "id": "a2077238",
   "metadata": {},
   "outputs": [],
   "source": []
  },
  {
   "cell_type": "code",
   "execution_count": null,
   "id": "de08fb85",
   "metadata": {},
   "outputs": [],
   "source": []
  },
  {
   "cell_type": "code",
   "execution_count": null,
   "id": "d8c59a42",
   "metadata": {},
   "outputs": [],
   "source": []
  },
  {
   "cell_type": "code",
   "execution_count": null,
   "id": "e16c9c67",
   "metadata": {},
   "outputs": [],
   "source": []
  },
  {
   "cell_type": "code",
   "execution_count": null,
   "id": "6c84dea8",
   "metadata": {},
   "outputs": [],
   "source": []
  },
  {
   "cell_type": "code",
   "execution_count": null,
   "id": "9a44b9c1",
   "metadata": {},
   "outputs": [],
   "source": []
  },
  {
   "cell_type": "code",
   "execution_count": null,
   "id": "70be04c4",
   "metadata": {},
   "outputs": [],
   "source": []
  },
  {
   "cell_type": "code",
   "execution_count": null,
   "id": "f3c2e172",
   "metadata": {},
   "outputs": [],
   "source": []
  },
  {
   "cell_type": "code",
   "execution_count": null,
   "id": "a1185c73",
   "metadata": {},
   "outputs": [],
   "source": []
  },
  {
   "cell_type": "code",
   "execution_count": null,
   "id": "2179016e",
   "metadata": {},
   "outputs": [],
   "source": []
  },
  {
   "cell_type": "code",
   "execution_count": null,
   "id": "5b7a8d0a",
   "metadata": {},
   "outputs": [],
   "source": []
  },
  {
   "cell_type": "code",
   "execution_count": 9,
   "id": "dadbaca3",
   "metadata": {},
   "outputs": [
    {
     "data": {
      "text/plain": [
       "array([[-0.9512918 , -0.99896853, -0.82855772, -0.99334135, -0.88430407,\n",
       "         0.87855306],\n",
       "       [-0.66865251, -0.99896853, -0.5114328 , -0.63532912, -0.5685715 ,\n",
       "         0.34273362],\n",
       "       [-1.30459092, -0.99896853, -1.77993246, -1.31555236, -1.63058106,\n",
       "         2.88787597],\n",
       "       ...,\n",
       "       [-0.24469358,  0.11424235,  0.02524013,  0.11649658,  0.06289365,\n",
       "        -0.32704069],\n",
       "       [-0.10337393,  0.11424235, -0.09673099, -0.06250954, -0.08062116,\n",
       "        -0.19308583],\n",
       "       [-0.10337393,  0.11424235,  0.3911535 ,  0.25970147,  0.34992326,\n",
       "        -0.59495041]])"
      ]
     },
     "execution_count": 9,
     "metadata": {},
     "output_type": "execute_result"
    }
   ],
   "source": [
    "from sklearn.preprocessing import StandardScaler\n",
    "sc=StandardScaler()\n",
    "X_transform=sc.fit_transform(X)\n",
    "X_transform"
   ]
  },
  {
   "cell_type": "code",
   "execution_count": 10,
   "id": "b1faf9cd",
   "metadata": {},
   "outputs": [],
   "source": [
    "import matplotlib.pyplot as plt"
   ]
  },
  {
   "cell_type": "code",
   "execution_count": 11,
   "id": "d2fd5a9d",
   "metadata": {},
   "outputs": [],
   "source": [
    "# x and y mean\n",
    "mean_x=np.mean(X_transform)\n",
    "mean_y=np.mean(Y)"
   ]
  },
  {
   "cell_type": "code",
   "execution_count": 13,
   "id": "b1aa2561",
   "metadata": {},
   "outputs": [
    {
     "name": "stdout",
     "output_type": "stream",
     "text": [
      "[ 55.37121136  53.82123208  56.88409514  54.58535623  56.50974552\n",
      " -57.41336802] [256.22867854 256.22867854 256.22867854 256.22867854 256.22867854\n",
      " 256.22867854]\n"
     ]
    }
   ],
   "source": [
    "numer=0\n",
    "denom=0\n",
    "x=X_transform\n",
    "for i in range(len(Y)):\n",
    "#     numerator of M 'slpoe'\n",
    "    numer+=(x[i]-mean_x)*(Y[i]-mean_y)\n",
    "#     denumerator of M 'slpoe'\n",
    "    denom+=(x[i]-mean_x)**2\n",
    "m=numer/denom\n",
    "c=mean_y-(m*mean_x)\n",
    "print(m,c)"
   ]
  },
  {
   "cell_type": "code",
   "execution_count": 15,
   "id": "f0364819",
   "metadata": {},
   "outputs": [
    {
     "name": "stdout",
     "output_type": "stream",
     "text": [
      "[0.76414586 0.72196391 0.80647317 0.74260952 0.79589343 0.8215505 ]\n"
     ]
    }
   ],
   "source": [
    "# Goodness of fit R-Square\n",
    "ss_t=0\n",
    "ss_r=0\n",
    "for i in range(len(Y)):\n",
    "    y_p=c+m*x[i]\n",
    "    ss_t+=(Y[i]-mean_y)**2\n",
    "    ss_r+=(Y[i]-y_p)**2\n",
    "r2=1-(ss_r/ss_t)\n",
    "print(r2)"
   ]
  },
  {
   "cell_type": "code",
   "execution_count": 16,
   "id": "c11d067f",
   "metadata": {},
   "outputs": [
    {
     "ename": "ValueError",
     "evalue": "x and y must be the same size",
     "output_type": "error",
     "traceback": [
      "\u001b[0;31m---------------------------------------------------------------------------\u001b[0m",
      "\u001b[0;31mValueError\u001b[0m                                Traceback (most recent call last)",
      "\u001b[0;32m/tmp/ipykernel_42503/3225605143.py\u001b[0m in \u001b[0;36m<module>\u001b[0;34m\u001b[0m\n\u001b[1;32m      1\u001b[0m \u001b[0mplt\u001b[0m\u001b[0;34m.\u001b[0m\u001b[0mfigure\u001b[0m\u001b[0;34m\u001b[0m\u001b[0;34m\u001b[0m\u001b[0m\n\u001b[1;32m      2\u001b[0m \u001b[0mplt\u001b[0m\u001b[0;34m.\u001b[0m\u001b[0mplot\u001b[0m\u001b[0;34m(\u001b[0m\u001b[0mx\u001b[0m\u001b[0;34m,\u001b[0m\u001b[0mm\u001b[0m\u001b[0;34m*\u001b[0m\u001b[0mx\u001b[0m\u001b[0;34m+\u001b[0m\u001b[0mc\u001b[0m\u001b[0;34m)\u001b[0m\u001b[0;34m\u001b[0m\u001b[0;34m\u001b[0m\u001b[0m\n\u001b[0;32m----> 3\u001b[0;31m \u001b[0mplt\u001b[0m\u001b[0;34m.\u001b[0m\u001b[0mscatter\u001b[0m\u001b[0;34m(\u001b[0m\u001b[0mx\u001b[0m\u001b[0;34m,\u001b[0m\u001b[0mY\u001b[0m\u001b[0;34m,\u001b[0m\u001b[0mlabel\u001b[0m\u001b[0;34m=\u001b[0m\u001b[0;34m\"graph\"\u001b[0m\u001b[0;34m)\u001b[0m\u001b[0;34m\u001b[0m\u001b[0;34m\u001b[0m\u001b[0m\n\u001b[0m\u001b[1;32m      4\u001b[0m \u001b[0mplt\u001b[0m\u001b[0;34m.\u001b[0m\u001b[0mshow\u001b[0m\u001b[0;34m(\u001b[0m\u001b[0;34m)\u001b[0m\u001b[0;34m\u001b[0m\u001b[0;34m\u001b[0m\u001b[0m\n",
      "\u001b[0;32m~/.local/lib/python3.8/site-packages/matplotlib/pyplot.py\u001b[0m in \u001b[0;36mscatter\u001b[0;34m(x, y, s, c, marker, cmap, norm, vmin, vmax, alpha, linewidths, edgecolors, plotnonfinite, data, **kwargs)\u001b[0m\n\u001b[1;32m   3035\u001b[0m         \u001b[0mvmin\u001b[0m\u001b[0;34m=\u001b[0m\u001b[0;32mNone\u001b[0m\u001b[0;34m,\u001b[0m \u001b[0mvmax\u001b[0m\u001b[0;34m=\u001b[0m\u001b[0;32mNone\u001b[0m\u001b[0;34m,\u001b[0m \u001b[0malpha\u001b[0m\u001b[0;34m=\u001b[0m\u001b[0;32mNone\u001b[0m\u001b[0;34m,\u001b[0m \u001b[0mlinewidths\u001b[0m\u001b[0;34m=\u001b[0m\u001b[0;32mNone\u001b[0m\u001b[0;34m,\u001b[0m \u001b[0;34m*\u001b[0m\u001b[0;34m,\u001b[0m\u001b[0;34m\u001b[0m\u001b[0;34m\u001b[0m\u001b[0m\n\u001b[1;32m   3036\u001b[0m         edgecolors=None, plotnonfinite=False, data=None, **kwargs):\n\u001b[0;32m-> 3037\u001b[0;31m     __ret = gca().scatter(\n\u001b[0m\u001b[1;32m   3038\u001b[0m         \u001b[0mx\u001b[0m\u001b[0;34m,\u001b[0m \u001b[0my\u001b[0m\u001b[0;34m,\u001b[0m \u001b[0ms\u001b[0m\u001b[0;34m=\u001b[0m\u001b[0ms\u001b[0m\u001b[0;34m,\u001b[0m \u001b[0mc\u001b[0m\u001b[0;34m=\u001b[0m\u001b[0mc\u001b[0m\u001b[0;34m,\u001b[0m \u001b[0mmarker\u001b[0m\u001b[0;34m=\u001b[0m\u001b[0mmarker\u001b[0m\u001b[0;34m,\u001b[0m \u001b[0mcmap\u001b[0m\u001b[0;34m=\u001b[0m\u001b[0mcmap\u001b[0m\u001b[0;34m,\u001b[0m \u001b[0mnorm\u001b[0m\u001b[0;34m=\u001b[0m\u001b[0mnorm\u001b[0m\u001b[0;34m,\u001b[0m\u001b[0;34m\u001b[0m\u001b[0;34m\u001b[0m\u001b[0m\n\u001b[1;32m   3039\u001b[0m         \u001b[0mvmin\u001b[0m\u001b[0;34m=\u001b[0m\u001b[0mvmin\u001b[0m\u001b[0;34m,\u001b[0m \u001b[0mvmax\u001b[0m\u001b[0;34m=\u001b[0m\u001b[0mvmax\u001b[0m\u001b[0;34m,\u001b[0m \u001b[0malpha\u001b[0m\u001b[0;34m=\u001b[0m\u001b[0malpha\u001b[0m\u001b[0;34m,\u001b[0m \u001b[0mlinewidths\u001b[0m\u001b[0;34m=\u001b[0m\u001b[0mlinewidths\u001b[0m\u001b[0;34m,\u001b[0m\u001b[0;34m\u001b[0m\u001b[0;34m\u001b[0m\u001b[0m\n",
      "\u001b[0;32m~/.local/lib/python3.8/site-packages/matplotlib/__init__.py\u001b[0m in \u001b[0;36minner\u001b[0;34m(ax, data, *args, **kwargs)\u001b[0m\n\u001b[1;32m   1350\u001b[0m     \u001b[0;32mdef\u001b[0m \u001b[0minner\u001b[0m\u001b[0;34m(\u001b[0m\u001b[0max\u001b[0m\u001b[0;34m,\u001b[0m \u001b[0;34m*\u001b[0m\u001b[0margs\u001b[0m\u001b[0;34m,\u001b[0m \u001b[0mdata\u001b[0m\u001b[0;34m=\u001b[0m\u001b[0;32mNone\u001b[0m\u001b[0;34m,\u001b[0m \u001b[0;34m**\u001b[0m\u001b[0mkwargs\u001b[0m\u001b[0;34m)\u001b[0m\u001b[0;34m:\u001b[0m\u001b[0;34m\u001b[0m\u001b[0;34m\u001b[0m\u001b[0m\n\u001b[1;32m   1351\u001b[0m         \u001b[0;32mif\u001b[0m \u001b[0mdata\u001b[0m \u001b[0;32mis\u001b[0m \u001b[0;32mNone\u001b[0m\u001b[0;34m:\u001b[0m\u001b[0;34m\u001b[0m\u001b[0;34m\u001b[0m\u001b[0m\n\u001b[0;32m-> 1352\u001b[0;31m             \u001b[0;32mreturn\u001b[0m \u001b[0mfunc\u001b[0m\u001b[0;34m(\u001b[0m\u001b[0max\u001b[0m\u001b[0;34m,\u001b[0m \u001b[0;34m*\u001b[0m\u001b[0mmap\u001b[0m\u001b[0;34m(\u001b[0m\u001b[0msanitize_sequence\u001b[0m\u001b[0;34m,\u001b[0m \u001b[0margs\u001b[0m\u001b[0;34m)\u001b[0m\u001b[0;34m,\u001b[0m \u001b[0;34m**\u001b[0m\u001b[0mkwargs\u001b[0m\u001b[0;34m)\u001b[0m\u001b[0;34m\u001b[0m\u001b[0;34m\u001b[0m\u001b[0m\n\u001b[0m\u001b[1;32m   1353\u001b[0m \u001b[0;34m\u001b[0m\u001b[0m\n\u001b[1;32m   1354\u001b[0m         \u001b[0mbound\u001b[0m \u001b[0;34m=\u001b[0m \u001b[0mnew_sig\u001b[0m\u001b[0;34m.\u001b[0m\u001b[0mbind\u001b[0m\u001b[0;34m(\u001b[0m\u001b[0max\u001b[0m\u001b[0;34m,\u001b[0m \u001b[0;34m*\u001b[0m\u001b[0margs\u001b[0m\u001b[0;34m,\u001b[0m \u001b[0;34m**\u001b[0m\u001b[0mkwargs\u001b[0m\u001b[0;34m)\u001b[0m\u001b[0;34m\u001b[0m\u001b[0;34m\u001b[0m\u001b[0m\n",
      "\u001b[0;32m~/.local/lib/python3.8/site-packages/matplotlib/axes/_axes.py\u001b[0m in \u001b[0;36mscatter\u001b[0;34m(self, x, y, s, c, marker, cmap, norm, vmin, vmax, alpha, linewidths, edgecolors, plotnonfinite, **kwargs)\u001b[0m\n\u001b[1;32m   4476\u001b[0m         \u001b[0my\u001b[0m \u001b[0;34m=\u001b[0m \u001b[0mnp\u001b[0m\u001b[0;34m.\u001b[0m\u001b[0mma\u001b[0m\u001b[0;34m.\u001b[0m\u001b[0mravel\u001b[0m\u001b[0;34m(\u001b[0m\u001b[0my\u001b[0m\u001b[0;34m)\u001b[0m\u001b[0;34m\u001b[0m\u001b[0;34m\u001b[0m\u001b[0m\n\u001b[1;32m   4477\u001b[0m         \u001b[0;32mif\u001b[0m \u001b[0mx\u001b[0m\u001b[0;34m.\u001b[0m\u001b[0msize\u001b[0m \u001b[0;34m!=\u001b[0m \u001b[0my\u001b[0m\u001b[0;34m.\u001b[0m\u001b[0msize\u001b[0m\u001b[0;34m:\u001b[0m\u001b[0;34m\u001b[0m\u001b[0;34m\u001b[0m\u001b[0m\n\u001b[0;32m-> 4478\u001b[0;31m             \u001b[0;32mraise\u001b[0m \u001b[0mValueError\u001b[0m\u001b[0;34m(\u001b[0m\u001b[0;34m\"x and y must be the same size\"\u001b[0m\u001b[0;34m)\u001b[0m\u001b[0;34m\u001b[0m\u001b[0;34m\u001b[0m\u001b[0m\n\u001b[0m\u001b[1;32m   4479\u001b[0m \u001b[0;34m\u001b[0m\u001b[0m\n\u001b[1;32m   4480\u001b[0m         \u001b[0;32mif\u001b[0m \u001b[0ms\u001b[0m \u001b[0;32mis\u001b[0m \u001b[0;32mNone\u001b[0m\u001b[0;34m:\u001b[0m\u001b[0;34m\u001b[0m\u001b[0;34m\u001b[0m\u001b[0m\n",
      "\u001b[0;31mValueError\u001b[0m: x and y must be the same size"
     ]
    },
    {
     "data": {
      "image/png": "[encoded data removed]",
      "text/plain": [
       "<Figure size 432x288 with 1 Axes>"
      ]
     },
     "metadata": {
      "needs_background": "light"
     },
     "output_type": "display_data"
    }
   ],
   "source": [
    "plt.figure\n",
    "plt.plot(x,m*x+c)\n",
    "plt.scatter(x,Y,label=\"graph\")\n",
    "plt.show()"
   ]
  },
  {
   "cell_type": "code",
   "execution_count": null,
   "id": "9ed5c5a8",
   "metadata": {},
   "outputs": [],
   "source": []
  },
  {
   "cell_type": "code",
   "execution_count": 17,
   "id": "3d199bd7",
   "metadata": {},
   "outputs": [
    {
     "name": "stdout",
     "output_type": "stream",
     "text": [
      "8.577672617039145 253.53120114591746\n",
      "0.8892861092642407\n"
     ]
    }
   ],
   "source": [
    "from sklearn.linear_model import LinearRegression as LR\n",
    "reg = LR().fit(X,Y)\n",
    "p=reg.coef_[0][0]\n",
    "q=reg.intercept_[0]\n",
    "print(p,q)\n",
    "print(reg.score(X,Y))"
   ]
  },
  {
   "cell_type": "code",
   "execution_count": 19,
   "id": "3e6bea47",
   "metadata": {},
   "outputs": [
    {
     "data": {
      "image/png": "[encoded data removed]",
      "text/plain": [
       "<Figure size 432x288 with 1 Axes>"
      ]
     },
     "metadata": {
      "needs_background": "light"
     },
     "output_type": "display_data"
    }
   ],
   "source": [
    "plt.figure\n",
    "plt.plot(X,p*X+q)\n",
    "# plt.scatter(X,Y,label=\"graph\")\n",
    "plt.show()"
   ]
  },
  {
   "cell_type": "code",
   "execution_count": null,
   "id": "5ce54a4e",
   "metadata": {},
   "outputs": [],
   "source": []
  },
  {
   "cell_type": "code",
   "execution_count": null,
   "id": "f02e5f62",
   "metadata": {},
   "outputs": [],
   "source": []
  },
  {
   "cell_type": "code",
   "execution_count": null,
   "id": "2be0564c",
   "metadata": {},
   "outputs": [],
   "source": []
  },
  {
   "cell_type": "code",
   "execution_count": null,
   "id": "887640c1",
   "metadata": {},
   "outputs": [],
   "source": []
  },
  {
   "cell_type": "code",
   "execution_count": null,
   "id": "05968a8c",
   "metadata": {},
   "outputs": [],
   "source": []
  },
  {
   "cell_type": "markdown",
   "id": "62ccdb0d",
   "metadata": {},
   "source": [
    "# GD for linear regression\n"
   ]
  },
  {
   "cell_type": "code",
   "execution_count": 97,
   "id": "2b6e35a9",
   "metadata": {},
   "outputs": [],
   "source": [
    "def predicted_y(weight,x,intercept):\n",
    "    y_lst=[]\n",
    "    for i in range(len(x)):\n",
    "        y_lst.append(weight@x[i]+intercept)\n",
    "    return np.array(y_lst)\n",
    "    \n",
    "\n",
    "# linear loss\n",
    "def loss(y,y_predicted):\n",
    "    n=len(y)\n",
    "    s=0\n",
    "    for i in range(n):\n",
    "        s+=(y[i]-y_predicted[i])**2\n",
    "    return (1/n)*s\n",
    "\n",
    "#derivative of loss w.r.t weight\n",
    "def dldw(x,y,y_predicted):\n",
    "    s=0\n",
    "    n=len(y)\n",
    "    for i in range(n):\n",
    "        s+=-x[i]*(y[i]-y_predicted[i])\n",
    "    return (2/n)*s\n",
    "    \n",
    "\n",
    "# derivative of loss w.r.t bias\n",
    "def dldb(y,y_predicted):\n",
    "    n=len(y)\n",
    "    s=0\n",
    "    for i in range(len(y)):\n",
    "        s+=-(y[i]-y_predicted[i])\n",
    "    return (2/n) * s\n",
    "   \n",
    "\n",
    "   \n",
    "        \n",
    "        \n",
    "# gradient function\n",
    "def gradient_descent(x,y):\n",
    "    weight_vector=np.random.randn(x.shape[1])\n",
    "    intercept=0\n",
    "    epoch = 2000\n",
    "    n = len(x)\n",
    "    linear_loss=[]\n",
    "    learning_rate = 0.001\n",
    "\n",
    "    for i in range(epoch):\n",
    "        \n",
    "        \n",
    "        y_predicted = predicted_y(weight_vector,x,intercept)\n",
    "        \n",
    "        weight_vector = weight_vector - learning_rate *dldw(x,y,y_predicted) \n",
    "        \n",
    "        \n",
    "        intercept = intercept - learning_rate * dldb(y,y_predicted)\n",
    "        linear_loss.append(loss(y,y_predicted))\n",
    "        \n",
    "    plt.plot(np.arange(1,epoch),linear_loss[1:])\n",
    "    plt.xlabel(\"number of epoch\")\n",
    "    plt.ylabel(\"loss\")\n",
    "    \n",
    "    return weight_vector,intercept\n",
    "    "
   ]
  },
  {
   "cell_type": "code",
   "execution_count": 98,
   "id": "5f442b19",
   "metadata": {},
   "outputs": [
    {
     "data": {
      "image/png": "[encoded data removed]",
      "text/plain": [
       "<Figure size 432x288 with 1 Axes>"
      ]
     },
     "metadata": {
      "needs_background": "light"
     },
     "output_type": "display_data"
    }
   ],
   "source": [
    "w,b=gradient_descent(X_transform,Y)"
   ]
  },
  {
   "cell_type": "code",
   "execution_count": 99,
   "id": "5ddb920c",
   "metadata": {},
   "outputs": [
    {
     "name": "stdout",
     "output_type": "stream",
     "text": [
      "weight: [ 13.53498112  11.62900377   7.29244974   7.48746661   7.93663515\n",
      " -15.42239212]\n",
      "bias: [251.55444603]\n"
     ]
    }
   ],
   "source": [
    "print(\"weight:\",w)\n",
    "print(\"bias:\",b)\n"
   ]
  },
  {
   "cell_type": "markdown",
   "id": "a5a066f7",
   "metadata": {},
   "source": [
    "# Predict"
   ]
  },
  {
   "cell_type": "code",
   "execution_count": 100,
   "id": "eba5c724",
   "metadata": {},
   "outputs": [],
   "source": [
    "def predict(inp):\n",
    "    y_lst=[]\n",
    "    for i in range(len(inp)):\n",
    "        y_lst.append(w@inp[i]+b)\n",
    "    return np.array(y_lst)"
   ]
  },
  {
   "cell_type": "code",
   "execution_count": 101,
   "id": "2cf95e93",
   "metadata": {},
   "outputs": [
    {
     "data": {
      "text/plain": [
       "array([[193.01410643],\n",
       "       [212.60231783],\n",
       "       [141.97031891],\n",
       "       ...,\n",
       "       [256.17028816],\n",
       "       [252.64834725],\n",
       "       [268.23355164]])"
      ]
     },
     "execution_count": 101,
     "metadata": {},
     "output_type": "execute_result"
    }
   ],
   "source": [
    "y_pred=predict(X_transform)\n",
    "y_pred"
   ]
  },
  {
   "cell_type": "code",
   "execution_count": 102,
   "id": "e76c4857",
   "metadata": {},
   "outputs": [
    {
     "data": {
      "text/plain": [
       "<matplotlib.collections.PathCollection at 0x7fbb17d20e50>"
      ]
     },
     "execution_count": 102,
     "metadata": {},
     "output_type": "execute_result"
    },
    {
     "data": {
      "image/png": "[encoded data removed]",
      "text/plain": [
       "<Figure size 432x288 with 1 Axes>"
      ]
     },
     "metadata": {
      "needs_background": "light"
     },
     "output_type": "display_data"
    }
   ],
   "source": [
    "plt.scatter(y_pred,Y)"
   ]
  },
  {
   "cell_type": "code",
   "execution_count": 103,
   "id": "e40ec313",
   "metadata": {},
   "outputs": [],
   "source": [
    "mean_y=np.mean(Y)"
   ]
  },
  {
   "cell_type": "code",
   "execution_count": 104,
   "id": "58257346",
   "metadata": {},
   "outputs": [
    {
     "name": "stdout",
     "output_type": "stream",
     "text": [
      "[0.87794971]\n"
     ]
    }
   ],
   "source": [
    "# Goodness of fit R-Square\n",
    "ss_t=0\n",
    "ss_r=0\n",
    "for i in range(len(Y)):\n",
    "    y_p=y_pred[i]\n",
    "    ss_t+=(Y[i]-mean_y)**2\n",
    "    ss_r+=(Y[i]-y_p)**2\n",
    "r2=1-(ss_r/ss_t)\n",
    "print(r2)"
   ]
  },
  {
   "cell_type": "code",
   "execution_count": null,
   "id": "1884f18d",
   "metadata": {},
   "outputs": [],
   "source": []
  },
  {
   "cell_type": "code",
   "execution_count": null,
   "id": "78d080a5",
   "metadata": {},
   "outputs": [],
   "source": []
  }
 ],
 "metadata": {
  "kernelspec": {
   "display_name": "Python [conda env:root] *",
   "language": "python",
   "name": "conda-root-py"
  },
  "language_info": {
   "codemirror_mode": {
    "name": "ipython",
    "version": 3
   },
   "file_extension": ".py",
   "mimetype": "text/x-python",
   "name": "python",
   "nbconvert_exporter": "python",
   "pygments_lexer": "ipython3",
   "version": "3.8.12"
  }
 },
 "nbformat": 4,
 "nbformat_minor": 5
}
