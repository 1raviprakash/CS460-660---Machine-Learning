{
 "cells": [
  {
   "cell_type": "markdown",
   "metadata": {},
   "source": [
    "# LinearRegression"
   ]
  },
  {
   "cell_type": "code",
   "execution_count": 1,
   "metadata": {},
   "outputs": [],
   "source": [
    "import numpy as np"
   ]
  },
  {
   "cell_type": "code",
   "execution_count": 2,
   "metadata": {
    "scrolled": true
   },
   "outputs": [
    {
     "data": {
      "text/plain": [
       "array([[65],\n",
       "       [21],\n",
       "       [47],\n",
       "       [80],\n",
       "       [83],\n",
       "       [14],\n",
       "       [ 9],\n",
       "       [27],\n",
       "       [31],\n",
       "       [25],\n",
       "       [89],\n",
       "       [28],\n",
       "       [46],\n",
       "       [65],\n",
       "       [87],\n",
       "       [85],\n",
       "       [12],\n",
       "       [66],\n",
       "       [14],\n",
       "       [86],\n",
       "       [32],\n",
       "       [70],\n",
       "       [53],\n",
       "       [14],\n",
       "       [50],\n",
       "       [ 7],\n",
       "       [10],\n",
       "       [38],\n",
       "       [65],\n",
       "       [ 9],\n",
       "       [48],\n",
       "       [49],\n",
       "       [33],\n",
       "       [67],\n",
       "       [16],\n",
       "       [33],\n",
       "       [96],\n",
       "       [39],\n",
       "       [45],\n",
       "       [63],\n",
       "       [79],\n",
       "       [ 8],\n",
       "       [36],\n",
       "       [63],\n",
       "       [92],\n",
       "       [58],\n",
       "       [60],\n",
       "       [12],\n",
       "       [56],\n",
       "       [61]])"
      ]
     },
     "execution_count": 2,
     "metadata": {},
     "output_type": "execute_result"
    }
   ],
   "source": [
    "x=np.random.randint(100, size=(50)).reshape(-1,1)\n",
    "x"
   ]
  },
  {
   "cell_type": "code",
   "execution_count": 3,
   "metadata": {},
   "outputs": [
    {
     "data": {
      "text/plain": [
       "array([[34],\n",
       "       [11],\n",
       "       [44],\n",
       "       [24],\n",
       "       [25],\n",
       "       [32],\n",
       "       [27],\n",
       "       [ 3],\n",
       "       [30],\n",
       "       [47],\n",
       "       [36],\n",
       "       [ 1],\n",
       "       [ 7],\n",
       "       [18],\n",
       "       [49],\n",
       "       [32],\n",
       "       [15],\n",
       "       [23],\n",
       "       [37],\n",
       "       [39],\n",
       "       [ 1],\n",
       "       [49],\n",
       "       [31],\n",
       "       [32],\n",
       "       [32],\n",
       "       [11],\n",
       "       [12],\n",
       "       [28],\n",
       "       [18],\n",
       "       [ 0],\n",
       "       [35],\n",
       "       [19],\n",
       "       [41],\n",
       "       [45],\n",
       "       [14],\n",
       "       [18],\n",
       "       [41],\n",
       "       [19],\n",
       "       [ 5],\n",
       "       [42],\n",
       "       [38],\n",
       "       [36],\n",
       "       [ 3],\n",
       "       [16],\n",
       "       [25],\n",
       "       [37],\n",
       "       [25],\n",
       "       [16],\n",
       "       [39],\n",
       "       [29]])"
      ]
     },
     "execution_count": 3,
     "metadata": {},
     "output_type": "execute_result"
    }
   ],
   "source": [
    "c=np.random.randint(50,size=(50)).reshape(-1,1)\n",
    "c"
   ]
  },
  {
   "cell_type": "code",
   "execution_count": 4,
   "metadata": {},
   "outputs": [
    {
     "data": {
      "text/plain": [
       "array([[359],\n",
       "       [116],\n",
       "       [279],\n",
       "       [424],\n",
       "       [440],\n",
       "       [102],\n",
       "       [ 72],\n",
       "       [138],\n",
       "       [185],\n",
       "       [172],\n",
       "       [481],\n",
       "       [141],\n",
       "       [237],\n",
       "       [343],\n",
       "       [484],\n",
       "       [457],\n",
       "       [ 75],\n",
       "       [353],\n",
       "       [107],\n",
       "       [469],\n",
       "       [161],\n",
       "       [399],\n",
       "       [296],\n",
       "       [102],\n",
       "       [282],\n",
       "       [ 46],\n",
       "       [ 62],\n",
       "       [218],\n",
       "       [343],\n",
       "       [ 45],\n",
       "       [275],\n",
       "       [264],\n",
       "       [206],\n",
       "       [380],\n",
       "       [ 94],\n",
       "       [183],\n",
       "       [521],\n",
       "       [214],\n",
       "       [230],\n",
       "       [357],\n",
       "       [433],\n",
       "       [ 76],\n",
       "       [183],\n",
       "       [331],\n",
       "       [485],\n",
       "       [327],\n",
       "       [325],\n",
       "       [ 76],\n",
       "       [319],\n",
       "       [334]])"
      ]
     },
     "execution_count": 4,
     "metadata": {},
     "output_type": "execute_result"
    }
   ],
   "source": [
    "m=5\n",
    "y=m*x+c\n",
    "y"
   ]
  },
  {
   "cell_type": "code",
   "execution_count": 5,
   "metadata": {},
   "outputs": [],
   "source": [
    "import matplotlib.pyplot as plt"
   ]
  },
  {
   "cell_type": "code",
   "execution_count": 6,
   "metadata": {},
   "outputs": [
    {
     "data": {
      "image/png": "[encoded data removed]",
      "text/plain": [
       "<Figure size 432x288 with 1 Axes>"
      ]
     },
     "metadata": {
      "needs_background": "light"
     },
     "output_type": "display_data"
    }
   ],
   "source": [
    "plt.figure()\n",
    "plt.scatter(x,y,label=\"graph\")\n",
    "plt.show()"
   ]
  },
  {
   "cell_type": "code",
   "execution_count": 7,
   "metadata": {},
   "outputs": [
    {
     "name": "stdout",
     "output_type": "stream",
     "text": [
      "5.219570915064346 15.535298338385985\n",
      "0.9919278008224315\n"
     ]
    }
   ],
   "source": [
    "from sklearn.linear_model import LinearRegression as LR\n",
    "reg = LR().fit(x,y)\n",
    "p=reg.coef_[0][0]\n",
    "q=reg.intercept_[0]\n",
    "print(p,q)\n",
    "print(reg.score(x,y))"
   ]
  },
  {
   "cell_type": "code",
   "execution_count": 8,
   "metadata": {
    "scrolled": true
   },
   "outputs": [
    {
     "data": {
      "image/png": "[encoded data removed]",
      "text/plain": [
       "<Figure size 432x288 with 1 Axes>"
      ]
     },
     "metadata": {
      "needs_background": "light"
     },
     "output_type": "display_data"
    }
   ],
   "source": [
    "plt.figure\n",
    "plt.plot(x,p*x+q)\n",
    "plt.scatter(x,y,label=\"graph\")\n",
    "plt.show()"
   ]
  },
  {
   "cell_type": "markdown",
   "metadata": {},
   "source": [
    "# Linear Regression Algorithm "
   ]
  },
  {
   "cell_type": "code",
   "execution_count": 9,
   "metadata": {},
   "outputs": [],
   "source": [
    "# x and y mean\n",
    "mean_x=np.mean(x)\n",
    "mean_y=np.mean(y)"
   ]
  },
  {
   "cell_type": "code",
   "execution_count": 10,
   "metadata": {},
   "outputs": [
    {
     "name": "stdout",
     "output_type": "stream",
     "text": [
      "[5.21957092] [15.53529834]\n"
     ]
    }
   ],
   "source": [
    "numer=0\n",
    "denom=0\n",
    "for i in range(50):\n",
    "#     numerator of M 'slpoe'\n",
    "    numer+=(x[i]-mean_x)*(y[i]-mean_y)\n",
    "#     denumerator of M 'slpoe'\n",
    "    denom+=(x[i]-mean_x)**2\n",
    "m=numer/denom\n",
    "c=mean_y-(m*mean_x)\n",
    "print(m,c)"
   ]
  },
  {
   "cell_type": "code",
   "execution_count": 11,
   "metadata": {},
   "outputs": [
    {
     "name": "stdout",
     "output_type": "stream",
     "text": [
      "[0.9919278]\n"
     ]
    }
   ],
   "source": [
    "# Goodness of fit R-Square\n",
    "ss_t=0\n",
    "ss_r=0\n",
    "for i in range(50):\n",
    "    y_p=c+m*x[i]\n",
    "    ss_t+=(y[i]-mean_y)**2\n",
    "    ss_r+=(y[i]-y_p)**2\n",
    "r2=1-(ss_r/ss_t)\n",
    "print(r2)"
   ]
  },
  {
   "cell_type": "code",
   "execution_count": 12,
   "metadata": {},
   "outputs": [
    {
     "data": {
      "image/png": "[encoded data removed]",
      "text/plain": [
       "<Figure size 432x288 with 1 Axes>"
      ]
     },
     "metadata": {
      "needs_background": "light"
     },
     "output_type": "display_data"
    }
   ],
   "source": [
    "plt.figure\n",
    "plt.plot(x,m*x+c)\n",
    "plt.scatter(x,y,label=\"graph\")\n",
    "plt.show()"
   ]
  },
  {
   "cell_type": "code",
   "execution_count": null,
   "metadata": {},
   "outputs": [],
   "source": []
  },
  {
   "cell_type": "code",
   "execution_count": null,
   "metadata": {},
   "outputs": [],
   "source": []
  }
 ],
 "metadata": {
  "kernelspec": {
   "display_name": "Python [conda env:root] *",
   "language": "python",
   "name": "conda-root-py"
  },
  "language_info": {
   "codemirror_mode": {
    "name": "ipython",
    "version": 3
   },
   "file_extension": ".py",
   "mimetype": "text/x-python",
   "name": "python",
   "nbconvert_exporter": "python",
   "pygments_lexer": "ipython3",
   "version": "3.8.5"
  }
 },
 "nbformat": 4,
 "nbformat_minor": 4
}
