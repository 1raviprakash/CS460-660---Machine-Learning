{
 "cells": [
  {
   "cell_type": "markdown",
   "metadata": {},
   "source": [
    "# LinearRegression"
   ]
  },
  {
   "cell_type": "code",
   "execution_count": 1,
   "metadata": {},
   "outputs": [],
   "source": [
    "import numpy as np"
   ]
  },
  {
   "cell_type": "code",
   "execution_count": 2,
   "metadata": {
    "scrolled": true
   },
   "outputs": [
    {
     "data": {
      "text/plain": [
       "array([[58],\n",
       "       [67],\n",
       "       [36],\n",
       "       [93],\n",
       "       [ 4],\n",
       "       [15],\n",
       "       [39],\n",
       "       [39],\n",
       "       [31],\n",
       "       [ 0],\n",
       "       [63],\n",
       "       [44],\n",
       "       [46],\n",
       "       [13],\n",
       "       [66],\n",
       "       [ 1],\n",
       "       [79],\n",
       "       [75],\n",
       "       [11],\n",
       "       [85],\n",
       "       [72],\n",
       "       [85],\n",
       "       [67],\n",
       "       [44],\n",
       "       [71],\n",
       "       [57],\n",
       "       [10],\n",
       "       [74],\n",
       "       [73],\n",
       "       [50],\n",
       "       [27],\n",
       "       [29],\n",
       "       [63],\n",
       "       [31],\n",
       "       [30],\n",
       "       [54],\n",
       "       [47],\n",
       "       [81],\n",
       "       [56],\n",
       "       [38],\n",
       "       [89],\n",
       "       [40],\n",
       "       [ 6],\n",
       "       [84],\n",
       "       [ 9],\n",
       "       [34],\n",
       "       [14],\n",
       "       [53],\n",
       "       [91],\n",
       "       [16]])"
      ]
     },
     "execution_count": 2,
     "metadata": {},
     "output_type": "execute_result"
    }
   ],
   "source": [
    "x=np.random.randint(100, size=(50)).reshape(-1,1)\n",
    "x"
   ]
  },
  {
   "cell_type": "code",
   "execution_count": 3,
   "metadata": {},
   "outputs": [
    {
     "data": {
      "text/plain": [
       "array([[16],\n",
       "       [23],\n",
       "       [15],\n",
       "       [10],\n",
       "       [20],\n",
       "       [30],\n",
       "       [ 2],\n",
       "       [35],\n",
       "       [37],\n",
       "       [19],\n",
       "       [38],\n",
       "       [ 4],\n",
       "       [24],\n",
       "       [ 3],\n",
       "       [ 4],\n",
       "       [ 2],\n",
       "       [ 1],\n",
       "       [16],\n",
       "       [18],\n",
       "       [35],\n",
       "       [30],\n",
       "       [27],\n",
       "       [20],\n",
       "       [40],\n",
       "       [20],\n",
       "       [40],\n",
       "       [38],\n",
       "       [ 3],\n",
       "       [17],\n",
       "       [ 6],\n",
       "       [43],\n",
       "       [28],\n",
       "       [16],\n",
       "       [29],\n",
       "       [34],\n",
       "       [36],\n",
       "       [30],\n",
       "       [ 0],\n",
       "       [19],\n",
       "       [ 9],\n",
       "       [18],\n",
       "       [35],\n",
       "       [15],\n",
       "       [16],\n",
       "       [ 9],\n",
       "       [37],\n",
       "       [49],\n",
       "       [ 7],\n",
       "       [32],\n",
       "       [35]])"
      ]
     },
     "execution_count": 3,
     "metadata": {},
     "output_type": "execute_result"
    }
   ],
   "source": [
    "c=np.random.randint(50,size=(50)).reshape(-1,1)\n",
    "c"
   ]
  },
  {
   "cell_type": "code",
   "execution_count": 4,
   "metadata": {},
   "outputs": [
    {
     "data": {
      "text/plain": [
       "array([[306],\n",
       "       [358],\n",
       "       [195],\n",
       "       [475],\n",
       "       [ 40],\n",
       "       [105],\n",
       "       [197],\n",
       "       [230],\n",
       "       [192],\n",
       "       [ 19],\n",
       "       [353],\n",
       "       [224],\n",
       "       [254],\n",
       "       [ 68],\n",
       "       [334],\n",
       "       [  7],\n",
       "       [396],\n",
       "       [391],\n",
       "       [ 73],\n",
       "       [460],\n",
       "       [390],\n",
       "       [452],\n",
       "       [355],\n",
       "       [260],\n",
       "       [375],\n",
       "       [325],\n",
       "       [ 88],\n",
       "       [373],\n",
       "       [382],\n",
       "       [256],\n",
       "       [178],\n",
       "       [173],\n",
       "       [331],\n",
       "       [184],\n",
       "       [184],\n",
       "       [306],\n",
       "       [265],\n",
       "       [405],\n",
       "       [299],\n",
       "       [199],\n",
       "       [463],\n",
       "       [235],\n",
       "       [ 45],\n",
       "       [436],\n",
       "       [ 54],\n",
       "       [207],\n",
       "       [119],\n",
       "       [272],\n",
       "       [487],\n",
       "       [115]])"
      ]
     },
     "execution_count": 4,
     "metadata": {},
     "output_type": "execute_result"
    }
   ],
   "source": [
    "m=5\n",
    "y=m*x+c\n",
    "y"
   ]
  },
  {
   "cell_type": "code",
   "execution_count": 5,
   "metadata": {},
   "outputs": [],
   "source": [
    "import matplotlib.pyplot as plt"
   ]
  },
  {
   "cell_type": "code",
   "execution_count": 6,
   "metadata": {},
   "outputs": [
    {
     "data": {
      "image/png": "[encoded data removed]",
      "text/plain": [
       "<Figure size 432x288 with 1 Axes>"
      ]
     },
     "metadata": {
      "needs_background": "light"
     },
     "output_type": "display_data"
    }
   ],
   "source": [
    "plt.figure()\n",
    "plt.scatter(x,y,label=\"graph\")\n",
    "plt.show()"
   ]
  },
  {
   "cell_type": "code",
   "execution_count": 7,
   "metadata": {},
   "outputs": [
    {
     "name": "stdout",
     "output_type": "stream",
     "text": [
      "0.9904810059814592\n"
     ]
    }
   ],
   "source": [
    "from sklearn.linear_model import LinearRegression as LR\n",
    "reg = LR().fit(x,y)\n",
    "print(reg.score(x,y))\n",
    "p=reg.coef_[0][0]\n",
    "q=reg.intercept_[0]"
   ]
  },
  {
   "cell_type": "code",
   "execution_count": 8,
   "metadata": {},
   "outputs": [
    {
     "data": {
      "image/png": "[encoded data removed]",
      "text/plain": [
       "<Figure size 432x288 with 1 Axes>"
      ]
     },
     "metadata": {
      "needs_background": "light"
     },
     "output_type": "display_data"
    }
   ],
   "source": [
    "plt.figure\n",
    "plt.plot(x,p*x+q)\n",
    "plt.scatter(x,y,label=\"graph\")\n",
    "plt.show()"
   ]
  },
  {
   "cell_type": "code",
   "execution_count": null,
   "metadata": {},
   "outputs": [],
   "source": []
  }
 ],
 "metadata": {
  "kernelspec": {
   "display_name": "Python [conda env:root] *",
   "language": "python",
   "name": "conda-root-py"
  },
  "language_info": {
   "codemirror_mode": {
    "name": "ipython",
    "version": 3
   },
   "file_extension": ".py",
   "mimetype": "text/x-python",
   "name": "python",
   "nbconvert_exporter": "python",
   "pygments_lexer": "ipython3",
   "version": "3.8.5"
  }
 },
 "nbformat": 4,
 "nbformat_minor": 4
}
