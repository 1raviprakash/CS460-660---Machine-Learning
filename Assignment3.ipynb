{
 "cells": [
  {
   "cell_type": "markdown",
   "metadata": {},
   "source": [
    "# GD ALGORITHMS\n"
   ]
  },
  {
   "cell_type": "code",
   "execution_count": 9,
   "metadata": {},
   "outputs": [],
   "source": [
    "import numpy as np\n",
    "import matplotlib.pyplot as plt\n",
    "from sklearn.linear_model import LinearRegression\n",
    "import time\n",
    "\n",
    "m = 5\n",
    "x = np.random.random(100)\n",
    "c = np.random.random(100)\n",
    "y = m * x + 0.5*c          \n",
    "\n",
    "N = len(y)\n"
   ]
  },
  {
   "cell_type": "markdown",
   "metadata": {},
   "source": [
    "## Batch"
   ]
  },
  {
   "cell_type": "code",
   "execution_count": 10,
   "metadata": {},
   "outputs": [],
   "source": [
    "def batch(mp, cp, itr):\n",
    "    k = 0\n",
    "    # Prediction\n",
    "    yp = mp*x + cp                \n",
    "\n",
    "\n",
    "    for i in range(1, N):\n",
    "        # Loss function\n",
    "        k += (1/N)*(yp[i] - y[i])**2              \n",
    "     # The weight or the hyper-parameter\n",
    "    alpha = 0.01               \n",
    "    for j in range(itr):\n",
    "        m_1 = 0\n",
    "        c_1 = 0\n",
    "        for i in range(1, N):\n",
    "            # Slope of loss function(w.r.t predicted slope)\n",
    "            m_1 += (2/N)*x[i]*(mp*x[i]+cp - y[i])\n",
    "            # Slope of loss function(w.r.t predicted intercept)\n",
    "            c_1 += (2/N)*(mp*x[i]+cp - y[i])               \n",
    "        mp = mp - alpha * m_1\n",
    "        cp = cp - alpha * c_1\n",
    "\n",
    "    return mp, cp, k\n"
   ]
  },
  {
   "cell_type": "code",
   "execution_count": 11,
   "metadata": {},
   "outputs": [],
   "source": [
    "g = np.random.random()*10\n",
    "b = np.random.random()*10\n",
    "\n",
    "start_time = time.time()\n",
    "z_batch = batch(g, b, 5000)[0]*x+batch(g, b, 5000)[1]"
   ]
  },
  {
   "cell_type": "code",
   "execution_count": 12,
   "metadata": {},
   "outputs": [
    {
     "name": "stdout",
     "output_type": "stream",
     "text": [
      "Required slope and intercept of loss function are: 4.988080900104825 & 0.25169899327893164\n",
      "Minimum value of the cost function is 0.25514384405740737\n"
     ]
    },
    {
     "data": {
      "image/png": "[encoded data removed]",
      "text/plain": [
       "<Figure size 432x288 with 1 Axes>"
      ]
     },
     "metadata": {
      "needs_background": "light"
     },
     "output_type": "display_data"
    },
    {
     "name": "stdout",
     "output_type": "stream",
     "text": [
      "Runtime:2.11452054977417\n"
     ]
    }
   ],
   "source": [
    "print('Required slope and intercept of loss function are:', batch(g, b, 5000) [0], '&', batch(g, b, 5000)[1])\n",
    "print('Minimum value of the cost function is', batch(g, b, 5000)[2])\n",
    "plt.figure()\n",
    "plt.scatter(x, y, c='red')\n",
    "plt.plot(x, z_batch)\n",
    "plt.xlabel('X-axis')\n",
    "plt.ylabel('Y-axis')\n",
    "plt.grid()\n",
    "plt.show()\n",
    "\n",
    "end_time = time.time()\n",
    "print('Runtime:'+(str)(end_time-start_time))"
   ]
  },
  {
   "cell_type": "markdown",
   "metadata": {},
   "source": [
    "## sgd"
   ]
  },
  {
   "cell_type": "code",
   "execution_count": 13,
   "metadata": {},
   "outputs": [],
   "source": [
    "def sgd(mp, cp, itr):\n",
    "    # Prediction\n",
    "    yp = mp*x + cp                \n",
    "    \n",
    "    for j in range(itr):\n",
    "        # The weight or the hyper-parameter\n",
    "        alpha = 0.01                \n",
    "        k = 0\n",
    "        m_1 = 0\n",
    "        c_1 = 0\n",
    "        \n",
    "        for l in range(N):\n",
    "            # Loss function\n",
    "            k += (1/N)*(mp*x[l]+cp - y[l])**2  \n",
    "            # Slope of loss function(w.r.t predicted slope)\n",
    "            m_1 += (2/N)*x[l]*(mp*x[l]+cp - y[l])      \n",
    "            # Slope of loss function(w.r.t predicted intercept)\n",
    "            c_1 += (2/N)*(mp*x[l]+cp - y[l])               \n",
    "\n",
    "        mp = mp - alpha * m_1\n",
    "        cp = cp - alpha * c_1\n",
    "\n",
    "    return mp, cp, k\n"
   ]
  },
  {
   "cell_type": "code",
   "execution_count": 14,
   "metadata": {},
   "outputs": [],
   "source": [
    "g = np.random.random()*10\n",
    "b = np.random.random()*10\n",
    "\n",
    "start_time = time.time()\n",
    "z_sgd = sgd(g, b, 5000)[0]*x + sgd(g, b, 5000)[1]"
   ]
  },
  {
   "cell_type": "code",
   "execution_count": 15,
   "metadata": {},
   "outputs": [
    {
     "name": "stdout",
     "output_type": "stream",
     "text": [
      "Required slope and intercept of loss function are: 4.986192414560863 & 0.25378658893833267\n",
      "Minimum value of the cost function is 0.019730458242652276\n"
     ]
    },
    {
     "data": {
      "image/png": "[encoded data removed]",
      "text/plain": [
       "<Figure size 432x288 with 1 Axes>"
      ]
     },
     "metadata": {
      "needs_background": "light"
     },
     "output_type": "display_data"
    },
    {
     "name": "stdout",
     "output_type": "stream",
     "text": [
      "Runtime:3.787456750869751\n"
     ]
    }
   ],
   "source": [
    "print('Required slope and intercept of loss function are:', sgd(g, b, 5000) [0], '&', sgd(g, b, 5000)[1])\n",
    "print('Minimum value of the cost function is', sgd(g, b, 5000)[2])\n",
    "plt.figure()\n",
    "plt.scatter(x, y,c='red')\n",
    "plt.plot(x, z_sgd)\n",
    "plt.xlabel('X-axis')\n",
    "plt.ylabel('Y-axis')\n",
    "plt.grid()\n",
    "plt.show()\n",
    "\n",
    "\n",
    "end_time = time.time()\n",
    "print('Runtime:'+(str)(end_time-start_time))\n"
   ]
  },
  {
   "cell_type": "markdown",
   "metadata": {},
   "source": [
    "## Mini_Batch"
   ]
  },
  {
   "cell_type": "code",
   "execution_count": 16,
   "metadata": {},
   "outputs": [
    {
     "name": "stdout",
     "output_type": "stream",
     "text": [
      "Required slope and intercept of loss function are: 4.979336712079106 & 0.2480457027190837\n",
      "Minimum value of the cost function is 0.015157119489738814\n"
     ]
    },
    {
     "data": {
      "image/png": "[encoded data removed]",
      "text/plain": [
       "<Figure size 432x288 with 1 Axes>"
      ]
     },
     "metadata": {
      "needs_background": "light"
     },
     "output_type": "display_data"
    },
    {
     "name": "stdout",
     "output_type": "stream",
     "text": [
      "Runtime:6.3973469734191895\n"
     ]
    }
   ],
   "source": [
    "m = 5\n",
    "x = np.random.random(100).reshape(10, 10)\n",
    "c = np.random.random(100).reshape(10, 10)\n",
    "y = m * x + 0.5*c              \n",
    "N = 10\n",
    "\n",
    "\n",
    "\n",
    "def mini_batch(mp, cp, itr):\n",
    "    # Prediction\n",
    "    yp = mp*x + cp                \n",
    "    \n",
    "    for j in range(itr):\n",
    "        for l in range(N):\n",
    "            # The weight or the hyper-parameter\n",
    "            alpha = 0.01                \n",
    "            k = 0\n",
    "            m_1 = 0\n",
    "            c_1 = 0\n",
    "            \n",
    "            for i in range(N):\n",
    "                # Loss function\n",
    "                k += (1/N)*(mp*x[l][i]+cp - y[l][i])**2                \n",
    "                # Slope of loss function(w.r.t predicted slope)\n",
    "                m_1 += (2/N)*x[l][i]*(mp*x[l][i]+cp - y[l][i])     \n",
    "                # Slope of loss function(w.r.t predicted intercept)\n",
    "                c_1 += (2/N)*(mp*x[l][i]+cp - y[l][i])                \n",
    "\n",
    "            mp = mp - alpha * m_1\n",
    "            cp = cp - alpha * c_1\n",
    "\n",
    "    return mp, cp, k\n",
    "\n",
    "\n",
    "\n",
    "\n",
    "g = np.random.random()*10\n",
    "b = np.random.random()*10\n",
    "start_time = time.time()\n",
    "z = mini_batch(g, b, 5000)[0]*x+mini_batch(g, b, 5000)[1]\n",
    "\n",
    "print('Required slope and intercept of loss function are:', mini_batch(g, b, 5000) [0], '&', mini_batch(g, b, 5000)[1])\n",
    "print('Minimum value of the cost function is', mini_batch(g, b, 5000)[2])\n",
    "\n",
    "plt.figure()\n",
    "plt.scatter(x, y, c='red')\n",
    "plt.plot(x, z)\n",
    "plt.xlabel('X-axis')\n",
    "plt.ylabel('Y-axis')\n",
    "plt.grid()\n",
    "plt.show()\n",
    "\n",
    "\n",
    "end_time = time.time()\n",
    "print('Runtime:'+(str)(end_time-start_time))\n"
   ]
  },
  {
   "cell_type": "markdown",
   "metadata": {},
   "source": [
    "###  Batch GD took the least time, then was SGD and the slowest was mini batch GD.But if we take a large dataset then SGD will perform better than Batch GD in terms of time."
   ]
  },
  {
   "cell_type": "code",
   "execution_count": null,
   "metadata": {},
   "outputs": [],
   "source": []
  }
 ],
 "metadata": {
  "kernelspec": {
   "display_name": "Python [conda env:root] *",
   "language": "python",
   "name": "conda-root-py"
  },
  "language_info": {
   "codemirror_mode": {
    "name": "ipython",
    "version": 3
   },
   "file_extension": ".py",
   "mimetype": "text/x-python",
   "name": "python",
   "nbconvert_exporter": "python",
   "pygments_lexer": "ipython3",
   "version": "3.8.5"
  }
 },
 "nbformat": 4,
 "nbformat_minor": 4
}
